{
 "cells": [
  {
   "cell_type": "code",
   "execution_count": 2,
   "metadata": {},
   "outputs": [],
   "source": [
    "import networkx as nx\n",
    "import pandas as pd\n",
    "\n",
    "from graph import *\n",
    "from max_flow import * "
   ]
  },
  {
   "cell_type": "code",
   "execution_count": null,
   "metadata": {},
   "outputs": [],
   "source": [
    "g = Graph()\n",
    "g.add_nodes([\"S\", \"A\", \"B\", \"C\", \"D\", \"E\", \"F\", \"T\"])\n",
    "g.add_edge(\"S\", \"A\", {\"capacity\" : 38})\n",
    "g.add_edge(\"S\", \"B\", {\"capacity\" : 1})\n",
    "g.add_edge(\"S\", \"F\", {\"capacity\" : 2})\n",
    "g.add_edge(\"A\", \"B\", {\"capacity\" : 8})\n",
    "g.add_edge(\"A\", \"C\", {\"capacity\" : 10})\n",
    "solve_max_flow(g, g.get_node(\"S\"), g.get_node(\"T\"))\n",
    "print(g)"
   ]
  },
  {
   "cell_type": "code",
   "execution_count": null,
   "metadata": {},
   "outputs": [],
   "source": [
    "g = Graph()\n",
    "g.add_nodes([\"S\", \"A\", \"B\", \"C\", \"D\", \"E\", \"F\", \"T\"])\n",
    "g.add_edge(\"S\", \"A\", {\"capacity\" : 38})\n",
    "g.add_edge(\"S\", \"B\", {\"capacity\" : 1})\n",
    "g.add_edge(\"S\", \"F\", {\"capacity\" : 2})\n",
    "g.add_edge(\"A\", \"B\", {\"capacity\" : 8})\n",
    "g.add_edge(\"A\", \"C\", {\"capacity\" : 10})\n",
    "g.add_edge(\"A\", \"D\", {\"capacity\" : 13})\n",
    "g.add_edge(\"B\", \"C\", {\"capacity\" : 26})\n",
    "g.add_edge(\"C\", \"E\", {\"capacity\" : 8})\n",
    "g.add_edge(\"C\", \"F\", {\"capacity\" : 24})\n",
    "g.add_edge(\"C\", \"T\", {\"capacity\" : 1})\n",
    "g.add_edge(\"D\", \"B\", {\"capacity\" : 2})\n",
    "g.add_edge(\"D\", \"E\", {\"capacity\" : 1})\n",
    "g.add_edge(\"D\", \"T\", {\"capacity\" : 7})\n",
    "g.add_edge(\"E\", \"T\", {\"capacity\" : 7})\n",
    "g.add_edge(\"F\", \"T\", {\"capacity\" : 27})\n",
    "\n",
    "solve_max_flow(g, g.get_node(\"S\"), g.get_node(\"T\"))\n",
    "print(g)"
   ]
  },
  {
   "cell_type": "code",
   "execution_count": 1,
   "metadata": {},
   "outputs": [
    {
     "data": {
      "image/png": "[encoded data removed]",
      "text/plain": [
       "<Figure size 432x288 with 1 Axes>"
      ]
     },
     "metadata": {
      "needs_background": "light"
     },
     "output_type": "display_data"
    }
   ],
   "source": [
    "import networkx as nx\n",
    "import pandas as pd\n",
    "\n",
    "from graph import *\n",
    "from max_flow import * \n",
    "import matplotlib.pyplot as plt\n",
    "\n",
    "from main import run_exp\n",
    "\n",
    "\n",
    "num_exps = 100\n",
    "num_satss, num_nonsatss, num_iterss = [], [], []\n",
    "\n",
    "for k in range(1,num_exps+1):\n",
    "\n",
    "    num_sats, num_nosats, num_iters = run_exp(k=k,verbose=False)\n",
    "    num_satss.append(num_sats), num_nonsatss.append(num_nosats), num_iterss.append(num_iters)\n",
    "\n",
    "\n",
    "plt.figure()\n",
    "# plt.plot([ (2*(k+1))+k for k in range(num_exps) ], label='num nodes')\n",
    "# plt.plot([ 2*k + k^2 for k in range(num_exps)], label='num edges')\n",
    "plt.plot(num_iterss, label='number iterations until no nodes in the queue')\n",
    "plt.plot(num_satss, label='number of saturated pushes')\n",
    "plt.plot(num_nonsatss, label='number of non-saturated pushes')\n",
    "plt.xlabel('k value')\n",
    "plt.ylabel('count')\n",
    "plt.legend()\n",
    "plt.show()\n",
    "    "
   ]
  },
  {
   "cell_type": "code",
   "execution_count": null,
   "metadata": {},
   "outputs": [],
   "source": []
  }
 ],
 "metadata": {
  "kernelspec": {
   "display_name": "Python 3.8.12 ('prime')",
   "language": "python",
   "name": "python3"
  },
  "language_info": {
   "codemirror_mode": {
    "name": "ipython",
    "version": 3
   },
   "file_extension": ".py",
   "mimetype": "text/x-python",
   "name": "python",
   "nbconvert_exporter": "python",
   "pygments_lexer": "ipython3",
   "version": "3.8.12"
  },
  "orig_nbformat": 4,
  "vscode": {
   "interpreter": {
    "hash": "3a505342b8f8ec6e392b07c17fb44b96227f47f39bd704660f118636a1044574"
   }
  }
 },
 "nbformat": 4,
 "nbformat_minor": 2
}
